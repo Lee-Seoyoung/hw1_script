{
 "cells": [
  {
   "cell_type": "markdown",
   "metadata": {},
   "source": [
    "### Assignment 1"
   ]
  },
  {
   "cell_type": "markdown",
   "metadata": {},
   "source": [
    "* 문제 1\n",
    "    * a=\"Hello Python\"문자열을 Slicing과 연결 연산자(+)를 사용하여 \"Python Hello\"로 변경하시오.  \n",
    "    \n",
    "    * [주의] a변수 자체에 \"Python Hello\"문자열이 저장되어야 함\n",
    "\n"
   ]
  },
  {
   "cell_type": "code",
   "execution_count": 8,
   "metadata": {
    "scrolled": true
   },
   "outputs": [
    {
     "name": "stdout",
     "output_type": "stream",
     "text": [
      "Python Hello \n"
     ]
    }
   ],
   "source": [
    "a = \"Hello Python\"\n",
    "print(a[6:12]+ \" \"+a[0:6])\n"
   ]
  },
  {
   "cell_type": "markdown",
   "metadata": {},
   "source": [
    "* 문제 2\n",
    "    * b = \"Hello Python World\" 문자열을 Slicing과 연결 연산자(+)를 사용하여 \"World Python Hello\"로 변경하시오.  \n",
    "\n",
    "    * [주의] b 변수 자체에 \"Python Hello\"문자열이 저장되어야 함"
   ]
  },
  {
   "cell_type": "code",
   "execution_count": 14,
   "metadata": {},
   "outputs": [
    {
     "name": "stdout",
     "output_type": "stream",
     "text": [
      "World Python Hello \n"
     ]
    }
   ],
   "source": [
    "b = \"Hello Python World\"\n",
    "b1 = b[13:19]\n",
    "b = b[6:13]+b[0:6]\n",
    "print(b1+\" \"+b)"
   ]
  },
  {
   "cell_type": "markdown",
   "metadata": {},
   "source": [
    "* 문제3\n",
    "\n",
    "    * c = \"Hello\"를 \"olleH\"로 변경하시오\n",
    "    * [주의] c변수 자체에 \"olleH\" 문자열이 저장되어야 함"
   ]
  },
  {
   "cell_type": "code",
   "execution_count": 20,
   "metadata": {},
   "outputs": [
    {
     "name": "stdout",
     "output_type": "stream",
     "text": [
      "olleH\n"
     ]
    }
   ],
   "source": [
    "c = \"Hello\"\n",
    "c = c[:: -1]\n",
    "print(c)"
   ]
  },
  {
   "cell_type": "markdown",
   "metadata": {},
   "source": [
    "* 문제4\n",
    "\n",
    "    * s = \"python\"에 대해 다음 문제를 풀어보시오.  \n",
    "    \n",
    "    \n",
    "    1. s[0], s[0][0], s[0][0][0]은 각각 어떤 값이 나오는지 확인하고 그 이유를 나름대로 설명해 보시오.\n",
    "    2. s[-100], s[100]은 값이 나오는지 에러가 나오는지 확인하고 그 결과에 대한 이유를 나름대로 설명해 보시오.\n",
    "    3. s[-100, 100]은 값이 나오는지 에러가 나오는지 확인하고 그 결과에 대한 이유를 나름대로 설명해 보시오.\n",
    "    4. s[1:-1]의 결과를 확인하고 그 결과에 대한 이유를 정확하게 설명하시오.\n",
    "    5. s[3:-3]의 결과를 확인하고 그 결과에 대한 이유를 정확하게 설명하시오.\n",
    "    "
   ]
  },
  {
   "cell_type": "code",
   "execution_count": 30,
   "metadata": {},
   "outputs": [
    {
     "name": "stdout",
     "output_type": "stream",
     "text": [
      "p\n",
      "p\n",
      "p\n"
     ]
    }
   ],
   "source": [
    "s = \"python\"\n",
    "print (s[0])\n",
    "print (s[0][0])\n",
    "print (s[0][0][0])\n"
   ]
  },
  {
   "cell_type": "markdown",
   "metadata": {},
   "source": [
    "* s[0]은 s의 문자열 python에서 첫번째 문자를 인덱싱하는 것을 의미하므로 print(s[0]은 p가 출력된다.  \n",
    "s[0][0]에서와 s[0][0][0]에서 역시 문자열을 나열했을 때 첫번째 문자를 나타내므로 동일하게 p를 출력했다고 예상합니다."
   ]
  },
  {
   "cell_type": "code",
   "execution_count": 31,
   "metadata": {},
   "outputs": [
    {
     "ename": "IndexError",
     "evalue": "string index out of range",
     "output_type": "error",
     "traceback": [
      "\u001b[1;31m---------------------------------------------------------------------------\u001b[0m",
      "\u001b[1;31mIndexError\u001b[0m                                Traceback (most recent call last)",
      "\u001b[1;32m<ipython-input-31-d57609b97045>\u001b[0m in \u001b[0;36m<module>\u001b[1;34m()\u001b[0m\n\u001b[1;32m----> 1\u001b[1;33m \u001b[0mprint\u001b[0m \u001b[1;33m(\u001b[0m\u001b[0ms\u001b[0m\u001b[1;33m[\u001b[0m\u001b[1;33m-\u001b[0m\u001b[1;36m100\u001b[0m\u001b[1;33m]\u001b[0m\u001b[1;33m)\u001b[0m\u001b[1;33m\u001b[0m\u001b[0m\n\u001b[0m\u001b[0;32m      2\u001b[0m \u001b[0mprint\u001b[0m \u001b[1;33m(\u001b[0m\u001b[0ms\u001b[0m\u001b[1;33m[\u001b[0m\u001b[1;36m100\u001b[0m\u001b[1;33m]\u001b[0m\u001b[1;33m)\u001b[0m\u001b[1;33m\u001b[0m\u001b[0m\n",
      "\u001b[1;31mIndexError\u001b[0m: string index out of range"
     ]
    }
   ],
   "source": [
    "print (s[-100])\n",
    "print (s[100])"
   ]
  },
  {
   "cell_type": "markdown",
   "metadata": {},
   "source": [
    "결과값이 에러가 나는데 파이썬은 문자열 객체를 만들 때 필요한 공간을 객체가 생성될 때 만들기 때문에, s[100],s[-100]은 문자열에 포함되지 않아 에러가 뜬다고 생각합니다."
   ]
  },
  {
   "cell_type": "code",
   "execution_count": 32,
   "metadata": {},
   "outputs": [
    {
     "ename": "TypeError",
     "evalue": "string indices must be integers",
     "output_type": "error",
     "traceback": [
      "\u001b[1;31m---------------------------------------------------------------------------\u001b[0m",
      "\u001b[1;31mTypeError\u001b[0m                                 Traceback (most recent call last)",
      "\u001b[1;32m<ipython-input-32-42241aebb09e>\u001b[0m in \u001b[0;36m<module>\u001b[1;34m()\u001b[0m\n\u001b[1;32m----> 1\u001b[1;33m \u001b[0mprint\u001b[0m\u001b[1;33m(\u001b[0m\u001b[0ms\u001b[0m\u001b[1;33m[\u001b[0m\u001b[1;33m-\u001b[0m\u001b[1;36m100\u001b[0m\u001b[1;33m,\u001b[0m\u001b[1;36m100\u001b[0m\u001b[1;33m]\u001b[0m\u001b[1;33m)\u001b[0m\u001b[1;33m\u001b[0m\u001b[0m\n\u001b[0m",
      "\u001b[1;31mTypeError\u001b[0m: string indices must be integers"
     ]
    }
   ],
   "source": [
    "print(s[-100,100])"
   ]
  },
  {
   "cell_type": "markdown",
   "metadata": {},
   "source": [
    "위와 비슷한 이유로 문자열 객체가 문자열의 길이에 맞는 공간으로 할당되므로 s[-100, 100] 역시 문자열 길이를 벗어나는 범위라서 에러가 나온다고 생각합니다."
   ]
  },
  {
   "cell_type": "code",
   "execution_count": 33,
   "metadata": {},
   "outputs": [
    {
     "name": "stdout",
     "output_type": "stream",
     "text": [
      "ytho\n"
     ]
    }
   ],
   "source": [
    "print(s[1:-1])"
   ]
  },
  {
   "cell_type": "markdown",
   "metadata": {},
   "source": [
    "s[1]에 해당하는 문자인 y부터 s[-1]에 해당하는 문자인 n문자 바로 직전까지 출력됩니다."
   ]
  },
  {
   "cell_type": "code",
   "execution_count": 36,
   "metadata": {},
   "outputs": [
    {
     "name": "stdout",
     "output_type": "stream",
     "text": [
      "\n"
     ]
    }
   ],
   "source": [
    "print(s[3:-3])\n"
   ]
  },
  {
   "cell_type": "markdown",
   "metadata": {},
   "source": [
    "s[3]을 가리키는 문자는 h이고, s[-3]문자 역시 h인데 슬라이싱에서 두번째 요소는 포함되지 않으므로 h 이전의 문자인 t가 출력되어야 하는데 이는 h보다 이전의 문자이므로 결과값이 출력되지 않습니다.\n"
   ]
  },
  {
   "cell_type": "markdown",
   "metadata": {},
   "source": [
    " * 문제 5  \n",
    " for문을 활용하여 1부터 100까지의 홀수를 출력하시오"
   ]
  },
  {
   "cell_type": "code",
   "execution_count": 37,
   "metadata": {},
   "outputs": [
    {
     "name": "stdout",
     "output_type": "stream",
     "text": [
      "1\n",
      "3\n",
      "5\n",
      "7\n",
      "9\n",
      "11\n",
      "13\n",
      "15\n",
      "17\n",
      "19\n",
      "21\n",
      "23\n",
      "25\n",
      "27\n",
      "29\n",
      "31\n",
      "33\n",
      "35\n",
      "37\n",
      "39\n",
      "41\n",
      "43\n",
      "45\n",
      "47\n",
      "49\n",
      "51\n",
      "53\n",
      "55\n",
      "57\n",
      "59\n",
      "61\n",
      "63\n",
      "65\n",
      "67\n",
      "69\n",
      "71\n",
      "73\n",
      "75\n",
      "77\n",
      "79\n",
      "81\n",
      "83\n",
      "85\n",
      "87\n",
      "89\n",
      "91\n",
      "93\n",
      "95\n",
      "97\n",
      "99\n"
     ]
    }
   ],
   "source": [
    "for i in range(1, 101):\n",
    "    if i%2 ==1:\n",
    "        print (i)"
   ]
  },
  {
   "cell_type": "markdown",
   "metadata": {},
   "source": [
    "* while문을 활용하여 1부터 100사이의 짝수의 합을 계산하여 출력하시오."
   ]
  },
  {
   "cell_type": "code",
   "execution_count": 42,
   "metadata": {},
   "outputs": [
    {
     "name": "stdout",
     "output_type": "stream",
     "text": [
      "2550\n"
     ]
    }
   ],
   "source": [
    "a= 2\n",
    "sum = 0\n",
    "while a<=100:\n",
    "    sum += a\n",
    "    a+=2\n",
    "else:\n",
    "    print (sum)\n",
    "    \n"
   ]
  },
  {
   "cell_type": "markdown",
   "metadata": {},
   "source": [
    "* 사용자로부터 정수를 입력받아서 1부터 그 사이에 존재하는 소수(Prime number)를 출력하는 파이썬 프로그램을 작성하시오"
   ]
  },
  {
   "cell_type": "code",
   "execution_count": 59,
   "metadata": {},
   "outputs": [
    {
     "name": "stdout",
     "output_type": "stream",
     "text": [
      "100\n",
      "[2, 3, 5, 7, 11, 13, 17, 19, 23, 29, 31, 37, 41, 43, 47, 53, 59, 61, 67, 71, 73, 79, 83, 89, 97]\n"
     ]
    }
   ],
   "source": [
    "a = input()\n",
    "a = int(a) #문자열을 정수형으로 변환\n",
    "primenumber=[] #소수들이 들어갈 빈 리스트를 만듬\n",
    "\n",
    "for i in range(2, a):\n",
    "    if i==2:\n",
    "        primenumber.append(i)\n",
    "    else:\n",
    "        for j in primenumber:\n",
    "            if i%j==0:\n",
    "                break\n",
    "        if j==primenumber[-1]:\n",
    "            primenumber.append(i)\n",
    "print(primenumber)"
   ]
  },
  {
   "cell_type": "markdown",
   "metadata": {},
   "source": [
    "* ACM-ICPC 문제 2439번  \n",
    "첫째 줄에는 별 1개, 둘째 줄에는 별 2개, N번째 줄에는 별 N개를 찍는 문제\n",
    "하지만, 오른쪽을 기준으로 정렬한 별 (예제 참고)을 출력하시오.\n"
   ]
  },
  {
   "cell_type": "code",
   "execution_count": null,
   "metadata": {},
   "outputs": [],
   "source": [
    "N = input()\n",
    "N = int(a)\n",
    "\n",
    "for i in range(a):\n",
    "    if i==0:\n",
    "        continue\n",
    "    else:\n",
    "        print(\" \"*(a-1)+\"*\"*(i))\n",
    "print(\"*\"*a)\n"
   ]
  },
  {
   "cell_type": "markdown",
   "metadata": {},
   "source": [
    "<img src=\"files/img/b_1.png\">"
   ]
  },
  {
   "cell_type": "markdown",
   "metadata": {},
   "source": [
    "* [ACM-ICPC 문제 1924번]  \n",
    "오늘은 2007년 1월 1일 월요일이다. 그렇다면 2007년 x월 y일은 무슨 요일일까? 이를 알아내는 프로그램을 작성하시오."
   ]
  },
  {
   "cell_type": "code",
   "execution_count": null,
   "metadata": {
    "collapsed": true
   },
   "outputs": [],
   "source": [
    "a, b=input().split()\n",
    "a=int(a)\n",
    "b=int(b)\n",
    "if a==1:\n",
    "    count=b\n",
    "if a==2:\n",
    "    count=b+31\n",
    "if a==3:\n",
    "    count=b+31+28\n",
    "if a==4:\n",
    "    count=b+31+28+31\n",
    "if a==5:\n",
    "    count=b+31+28+31+30\n",
    "if a==6:\n",
    "    count=b+31+28+31+30+31\n",
    "if a==7:\n",
    "    count=b+31+28+31+30+31+30\n",
    "if a==8:\n",
    "    count=b+31+28+31+30+31+30+31\n",
    "if a==9:\n",
    "    count=b+31+28+31+30+31+30+31+31\n",
    "if a==10:\n",
    "    count=b+31+28+31+30+31+30+31+31+30\n",
    "if a==11:\n",
    "    count=b+31+28+31+30+31+30+31+31+30+31\n",
    "if a==12:\n",
    "    count=b+31+28+31+30+31+30+31+31+30+31+30\n",
    "\n",
    "day=count%7\n",
    "if day==1:\n",
    "    print(\"MON\")\n",
    "if day==2:\n",
    "    print(\"TUE\")\n",
    "if day==3:\n",
    "    print(\"WED\")\n",
    "if day==4:\n",
    "    print(\"THU\")\n",
    "if day==5:\n",
    "    print(\"FRI\")\n",
    "if day==6:\n",
    "    print(\"SAT\")\n",
    "if day==0:\n",
    "    print(\"SUN\")"
   ]
  },
  {
   "cell_type": "markdown",
   "metadata": {},
   "source": [
    "<img src=\"files/img/b_2.png\">"
   ]
  },
  {
   "cell_type": "markdown",
   "metadata": {},
   "source": [
    "* [ACM-ICPC 문제 11720번]  \n",
    "N개의 숫자가 공백 없이 쓰여있다. 이 숫자를 모두 합해서 출력하는 프로그램을 작성하시오."
   ]
  },
  {
   "cell_type": "code",
   "execution_count": null,
   "metadata": {
    "collapsed": true
   },
   "outputs": [],
   "source": [
    "n=input()\n",
    "n=int(n)\n",
    "array=input()\n",
    "array=list(array)\n",
    "result=0\n",
    "for i in array:\n",
    "    i=int(i)\n",
    "    result=result+i\n",
    "\n",
    "print(result)"
   ]
  },
  {
   "cell_type": "markdown",
   "metadata": {},
   "source": [
    "<img src=\"files/img/b_3.png\">"
   ]
  },
  {
   "cell_type": "markdown",
   "metadata": {},
   "source": [
    "## 소감\n",
    "파이썬언어의 매력을 조금씩 느껴가는 것 같고 baekjoon사이트가 정말 좋은 것 같아 다른언어에서도 자주 활용하고 싶습니다.\n",
    "숙제를 하는데 시간이 조금 오래걸려 시간할애에 신경써야 할 것 같습니다."
   ]
  },
  {
   "cell_type": "code",
   "execution_count": null,
   "metadata": {
    "collapsed": true
   },
   "outputs": [],
   "source": []
  }
 ],
 "metadata": {
  "kernelspec": {
   "display_name": "Python 3",
   "language": "python",
   "name": "python3"
  },
  "language_info": {
   "codemirror_mode": {
    "name": "ipython",
    "version": 3
   },
   "file_extension": ".py",
   "mimetype": "text/x-python",
   "name": "python",
   "nbconvert_exporter": "python",
   "pygments_lexer": "ipython3",
   "version": "3.6.1"
  }
 },
 "nbformat": 4,
 "nbformat_minor": 2
}
